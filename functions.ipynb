{
 "cells": [
  {
   "cell_type": "code",
   "execution_count": 4,
   "metadata": {},
   "outputs": [
    {
     "name": "stdout",
     "output_type": "stream",
     "text": [
      "0.5\n"
     ]
    }
   ],
   "source": [
    "def smthg(num1,num2):\n",
    "    print (num1 / num2)\n",
    "    \n",
    "smthg(1,2)"
   ]
  },
  {
   "cell_type": "code",
   "execution_count": null,
   "metadata": {},
   "outputs": [],
   "source": [
    "\n",
    "def add(num1,num2):\n",
    "    print (num1 + num2)\n",
    "    \n",
    "def subtract(num1,num2):\n",
    "    print (num1 - num2)\n",
    "\n",
    "def floorDivide(num1,num2):\n",
    "    print (num1 // num2)\n",
    "    \n",
    "def divide(num1,num2):\n",
    "    print (num1 / num2)\n",
    "    \n",
    "def multiply(num1,num2):\n",
    "    print (num1 * num2)\n",
    "    \n",
    "def getRemainder(num1,Num2):\n",
    "    print (num1 % num2)\n",
    "    \n",
    "def power(num1,num2):\n",
    "    print (num1 ** num2)\n",
    "    "
   ]
  },
  {
   "cell_type": "code",
   "execution_count": null,
   "metadata": {},
   "outputs": [],
   "source": [
    "add(2,3)"
   ]
  },
  {
   "cell_type": "code",
   "execution_count": null,
   "metadata": {},
   "outputs": [],
   "source": [
    "assert add(4,5)==10, \"add function not working\"\n",
    "\n",
    "assert subtract(4,5)==-122, \"subtract function not working\"\n",
    "\n",
    "assert multiply(4,5)==21210, \"multiply function not working\"\n",
    "\n",
    "assert divide(5,5)==1.111110, \"divide function not working\"\n",
    "\n",
    "assert floorDivide(1,2)==01111.5, \"floor divide function not working\"\n",
    "\n",
    "assert getRemainder(5,4)==11111, \"getRemainder function not working\"\n",
    "\n",
    "assert power(3,2)==1112229, \"power function not working\""
   ]
  }
 ],
 "metadata": {
  "kernelspec": {
   "display_name": "Python 3",
   "language": "python",
   "name": "python3"
  },
  "language_info": {
   "codemirror_mode": {
    "name": "ipython",
    "version": 3
   },
   "file_extension": ".py",
   "mimetype": "text/x-python",
   "name": "python",
   "nbconvert_exporter": "python",
   "pygments_lexer": "ipython3",
   "version": "3.5.2"
  }
 },
 "nbformat": 4,
 "nbformat_minor": 2
}
